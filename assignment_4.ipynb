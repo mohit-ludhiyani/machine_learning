{
 "cells": [
  {
   "cell_type": "markdown",
   "metadata": {},
   "source": [
    "## Assignment 4"
   ]
  },
  {
   "cell_type": "code",
   "execution_count": 7,
   "metadata": {},
   "outputs": [
    {
     "name": "stdout",
     "output_type": "stream",
     "text": [
      "Enter the First side length1\n",
      "Enter the Second side length2\n",
      "Enter the Third side length3\n"
     ]
    },
    {
     "data": {
      "text/plain": [
       "0.0"
      ]
     },
     "execution_count": 7,
     "metadata": {},
     "output_type": "execute_result"
    }
   ],
   "source": [
    "# Q1.1: Compute area of triangle using class concept\n",
    "\n",
    "class triangle_specs:\n",
    "    def __init__(self):\n",
    "        self.a = int(input(\"Enter the First side length\"))\n",
    "        self.b = int(input(\"Enter the Second side length\"))\n",
    "        self.c = int(input(\"Enter the Third side length\"))\n",
    "    \n",
    "class triangle_area(triangle_specs):\n",
    "    def compute_area(self):\n",
    "        s = (self.a+self.b+self.c)/2\n",
    "        area = (s*(s-self.a)*(s-self.b)*(s-self.c))**0.5 \n",
    "        return area\n",
    "        \n",
    "a = triangle_area() \n",
    "a.compute_area()    \n"
   ]
  },
  {
   "cell_type": "code",
   "execution_count": 12,
   "metadata": {},
   "outputs": [
    {
     "data": {
      "text/plain": [
       "['hi', 'how']"
      ]
     },
     "execution_count": 12,
     "metadata": {},
     "output_type": "execute_result"
    }
   ],
   "source": [
    "# Q1.2: function to filter words of length <=n\n",
    "\n",
    "def my_filter(word_lst,n):\n",
    "    return [i for i in word_lst if len(i)<=n]\n",
    "\n",
    "my_filter([\"hi\", \"hello\", \"how\", \"hello, how are you\"],3)"
   ]
  },
  {
   "cell_type": "code",
   "execution_count": 21,
   "metadata": {},
   "outputs": [
    {
     "data": {
      "text/plain": [
       "[2, 5, 3, 18]"
      ]
     },
     "execution_count": 21,
     "metadata": {},
     "output_type": "execute_result"
    }
   ],
   "source": [
    "# Q2.1: function to map words to length\n",
    "\n",
    "def my_map(word_lst):\n",
    "    return [len(i) for i in word_lst]\n",
    "\n",
    "my_map([\"hi\", \"hello\", \"how\", \"hello, how are you\"])"
   ]
  },
  {
   "cell_type": "code",
   "execution_count": 22,
   "metadata": {},
   "outputs": [
    {
     "data": {
      "text/plain": [
       "[2, 5, 3, 18]"
      ]
     },
     "execution_count": 22,
     "metadata": {},
     "output_type": "execute_result"
    }
   ],
   "source": [
    "# Q2.1:Using Map\n",
    "\n",
    "word_lst = [\"hi\", \"hello\", \"how\", \"hello, how are you\"]\n",
    "\n",
    "list(map(lambda x: len(x), word_lst))"
   ]
  }
 ],
 "metadata": {
  "kernelspec": {
   "display_name": "Python 3",
   "language": "python",
   "name": "python3"
  },
  "language_info": {
   "codemirror_mode": {
    "name": "ipython",
    "version": 3
   },
   "file_extension": ".py",
   "mimetype": "text/x-python",
   "name": "python",
   "nbconvert_exporter": "python",
   "pygments_lexer": "ipython3",
   "version": "3.8.5"
  }
 },
 "nbformat": 4,
 "nbformat_minor": 4
}
