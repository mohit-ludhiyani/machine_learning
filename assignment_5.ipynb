{
 "cells": [
  {
   "cell_type": "markdown",
   "metadata": {},
   "source": [
    "# Exception handling (Assignment 5)"
   ]
  },
  {
   "cell_type": "code",
   "execution_count": 5,
   "metadata": {},
   "outputs": [
    {
     "name": "stdout",
     "output_type": "stream",
     "text": [
      "Denominator can't be zero\n"
     ]
    }
   ],
   "source": [
    "# Q1: compute 5/0 with exception handling\n",
    "\n",
    "def my_divide(a,b):\n",
    "    try:\n",
    "        print(a/b)\n",
    "    except ZeroDivisionError:\n",
    "        print(\"Denominator can't be zero\")\n",
    "    except:\n",
    "        print(\"Some error\")\n",
    "    else:\n",
    "        print(\"opration was succesful\")\n",
    "        \n",
    "#my_divide(1,0) # ==> exception handling. You can multiple exception blocks\n",
    "my_divide(5,0)"
   ]
  },
  {
   "cell_type": "code",
   "execution_count": 12,
   "metadata": {},
   "outputs": [
    {
     "name": "stdout",
     "output_type": "stream",
     "text": [
      "Americans Play Baseball.\n",
      "Americans Play cricket.\n",
      "Americans watch Baseball.\n",
      "Americans watch cricket.\n",
      "Indians Play Baseball.\n",
      "Indians Play cricket.\n",
      "Indians watch Baseball.\n",
      "Indians watch cricket.\n"
     ]
    }
   ],
   "source": [
    "# Q2 Implement a Python program to generate all sentences where subject is in [\"Americans\", \"Indians\"] \n",
    "# and verb is in [\"Play\", \"watch\"] and the object is in [\"Baseball\",\"cricket\"].\n",
    "\n",
    "subjects = [\"Americans\", \"Indians\"]\n",
    "verb = [\"Play\", \"watch\"]\n",
    "objct =  [\"Baseball\",\"cricket\"]\n",
    "\n",
    "output = [i+\" \" + j + \" \" + k + '.' for i in subjects for j in verb for k in objct]\n",
    "\n",
    "for i in output:\n",
    "    print(i)"
   ]
  }
 ],
 "metadata": {
  "kernelspec": {
   "display_name": "Python 3",
   "language": "python",
   "name": "python3"
  },
  "language_info": {
   "codemirror_mode": {
    "name": "ipython",
    "version": 3
   },
   "file_extension": ".py",
   "mimetype": "text/x-python",
   "name": "python",
   "nbconvert_exporter": "python",
   "pygments_lexer": "ipython3",
   "version": "3.8.5"
  }
 },
 "nbformat": 4,
 "nbformat_minor": 4
}
