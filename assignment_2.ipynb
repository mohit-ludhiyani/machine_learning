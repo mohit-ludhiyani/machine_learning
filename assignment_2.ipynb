{
 "cells": [
  {
   "cell_type": "markdown",
   "metadata": {},
   "source": [
    "# Assignment 2"
   ]
  },
  {
   "cell_type": "code",
   "execution_count": 12,
   "metadata": {},
   "outputs": [
    {
     "name": "stdout",
     "output_type": "stream",
     "text": [
      "*\n",
      "\n",
      "\n",
      "**\n",
      "\n",
      "\n",
      "***\n",
      "\n",
      "\n",
      "****\n",
      "\n",
      "\n",
      "*****\n",
      "\n",
      "\n",
      "****\n",
      "\n",
      "\n",
      "***\n",
      "\n",
      "\n",
      "**\n",
      "\n",
      "\n",
      "*\n",
      "\n",
      "\n",
      "\n",
      "\n",
      "\n"
     ]
    }
   ],
   "source": [
    "# Q1: print pattern\n",
    "\n",
    "for i in range(1,11):\n",
    "    for j in [i if i<=5 else 10-i]:\n",
    "        print(j*'*')\n",
    "    print('\\n')\n",
    "    "
   ]
  },
  {
   "cell_type": "code",
   "execution_count": 11,
   "metadata": {},
   "outputs": [
    {
     "name": "stdout",
     "output_type": "stream",
     "text": [
      "Enter a word mn\n",
      "Output nm\n"
     ]
    }
   ],
   "source": [
    "# Q2: input word from user and print in reverse\n",
    "\n",
    "word = input(\"Enter a word \")\n",
    "print(\"Output\" + \" \" + word[::-1])"
   ]
  }
 ],
 "metadata": {
  "kernelspec": {
   "display_name": "Python 3",
   "language": "python",
   "name": "python3"
  },
  "language_info": {
   "codemirror_mode": {
    "name": "ipython",
    "version": 3
   },
   "file_extension": ".py",
   "mimetype": "text/x-python",
   "name": "python",
   "nbconvert_exporter": "python",
   "pygments_lexer": "ipython3",
   "version": "3.8.5"
  }
 },
 "nbformat": 4,
 "nbformat_minor": 4
}
